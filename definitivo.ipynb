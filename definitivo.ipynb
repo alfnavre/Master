{
 "cells": [
  {
   "cell_type": "markdown",
   "metadata": {},
   "source": [
    "### 4.3.3. The companies that earn the most, in what genres do they invest?\n",
    "On Kaggle's page, they asked this question and we considered it important to analyze it."
   ]
  },
  {
   "cell_type": "code",
   "execution_count": 10,
   "metadata": {},
   "outputs": [
    {
     "name": "stdout",
     "output_type": "stream",
     "text": [
      "longitud df -->  10332 Contador -->  10332\n"
     ]
    }
   ],
   "source": [
    "# We convert the json files into a dataframe\n",
    "dfProduction_companies = utl.getJSONDataFrame(pd, dfMerge, 'production_companies')\n",
    "dfMainGenres = dfMain.merge(dfGenres, on = 'movie_id')\n",
    "\n",
    "# We unite both in a single dataframe\n",
    "df = dfProduction_companies.loc[:,['name','movie_id']]\n",
    "dfGenresCompanies = pd.merge(df, dfMainGenres, on ='movie_id')"
   ]
  },
  {
   "cell_type": "markdown",
   "metadata": {},
   "source": [
    "In the following table we will show the five producers of all the history of cinema with greater profitability. Logically, it will not be necessary to adjust inflation, because profitability is a relative value, in this case between the money invested and the profit obtained."
   ]
  },
  {
   "cell_type": "code",
   "execution_count": 14,
   "metadata": {},
   "outputs": [
    {
     "data": {
      "text/html": [
       "<iframe id=\"igraph\" scrolling=\"no\" style=\"border:none;\" seamless=\"seamless\" src=\"https://plot.ly/~alfnavre/4.embed\" height=\"500px\" width=\"750px\"></iframe>"
      ],
      "text/plain": [
       "<plotly.tools.PlotlyDisplay object>"
      ]
     },
     "execution_count": 14,
     "metadata": {},
     "output_type": "execute_result"
    }
   ],
   "source": [
    "# We show a table with the five companies that have profited the most from the films produced according to the initial budget.\n",
    "\n",
    "df = dfGenresCompanies.loc[:,['revenue','budget']]\n",
    "TableGenresCompanies = dfGenresCompanies.pivot_table(df, index=['name_x']).sort_values(\"revenue\", ascending = False).head(5).round()\n",
    "\n",
    "Cost_effectiveness = (TableGenresCompanies.revenue / TableGenresCompanies.budget * 100).round(2)\n",
    "\n",
    "trace0 = go.Table(\n",
    "  type = 'table',\n",
    "  header = dict(\n",
    "    values = ['<b>Companies</b>','<b>Budget</b>', '<b>Revenue</b>','<b> % Cost effectiveness</b>'],\n",
    "    line = dict(color = 'blue'),\n",
    "    fill = dict(color = 'lightgrey'),\n",
    "    align = 'center',\n",
    "    font = dict(family='Courier New, monospace',color = 'black', size = 16)\n",
    "  ),\n",
    "  cells = dict(\n",
    "    values = [TableGenresCompanies.index[:],TableGenresCompanies.budget, TableGenresCompanies.revenue, Cost_effectiveness],\n",
    "    line = dict(color = 'blue'),\n",
    "    fill = dict(color = 'white'),\n",
    "    align = 'center',\n",
    "    font = dict(color = 'black', size = 11)\n",
    "    ))\n",
    "\n",
    "layout = dict(width=750, height=500)\n",
    "data = [trace0]\n",
    "fig = dict(data=data, layout=layout)\n",
    "py.iplot(fig, filename = 'styled_table')"
   ]
  },
  {
   "cell_type": "code",
   "execution_count": 12,
   "metadata": {},
   "outputs": [
    {
     "data": {
      "image/png": "[encoded data removed]",
      "text/plain": [
       "<matplotlib.figure.Figure at 0x11001e320>"
      ]
     },
     "metadata": {},
     "output_type": "display_data"
    }
   ],
   "source": [
    "# We reprinted this data in a bar chart.\n",
    "TableGenresCompanies.plot(kind = 'barh')\n",
    "plt.title('Five most profitable companies according to budget', fontsize=15, bbox={'facecolor':'1.9', 'pad':3})\n",
    "plt.xlabel('Companies', fontsize=16)\n",
    "plt.ylabel(\"Thousands of Millions\", fontsize=16)\n",
    "plt.show()"
   ]
  },
  {
   "cell_type": "markdown",
   "metadata": {},
   "source": [
    "The producer that has obtained more profitability from his films is Lightstorm Entertainment, an American company founded by James Camaron in 1990. In which the films Avatar, Titanic and Terminator 2 stand out, like the ones that have won the most box office."
   ]
  },
  {
   "cell_type": "code",
   "execution_count": 18,
   "metadata": {},
   "outputs": [
    {
     "data": {
      "text/html": [
       "<div>\n",
       "<style>\n",
       "    .dataframe thead tr:only-child th {\n",
       "        text-align: right;\n",
       "    }\n",
       "\n",
       "    .dataframe thead th {\n",
       "        text-align: left;\n",
       "    }\n",
       "\n",
       "    .dataframe tbody tr th {\n",
       "        vertical-align: top;\n",
       "    }\n",
       "</style>\n",
       "<table border=\"1\" class=\"dataframe\">\n",
       "  <thead>\n",
       "    <tr style=\"text-align: right;\">\n",
       "      <th></th>\n",
       "      <th>revenue</th>\n",
       "    </tr>\n",
       "    <tr>\n",
       "      <th>original_title</th>\n",
       "      <th></th>\n",
       "    </tr>\n",
       "  </thead>\n",
       "  <tbody>\n",
       "    <tr>\n",
       "      <th>Avatar</th>\n",
       "      <td>2787965087</td>\n",
       "    </tr>\n",
       "    <tr>\n",
       "      <th>Titanic</th>\n",
       "      <td>1845034188</td>\n",
       "    </tr>\n",
       "    <tr>\n",
       "      <th>Terminator 2: Judgment Day</th>\n",
       "      <td>520000000</td>\n",
       "    </tr>\n",
       "    <tr>\n",
       "      <th>True Lies</th>\n",
       "      <td>378882411</td>\n",
       "    </tr>\n",
       "    <tr>\n",
       "      <th>The Abyss</th>\n",
       "      <td>90000098</td>\n",
       "    </tr>\n",
       "  </tbody>\n",
       "</table>\n",
       "</div>"
      ],
      "text/plain": [
       "                               revenue\n",
       "original_title                        \n",
       "Avatar                      2787965087\n",
       "Titanic                     1845034188\n",
       "Terminator 2: Judgment Day   520000000\n",
       "True Lies                    378882411\n",
       "The Abyss                     90000098"
      ]
     },
     "execution_count": 18,
     "metadata": {},
     "output_type": "execute_result"
    }
   ],
   "source": [
    "df = dfGenresCompanies[dfGenresCompanies.name_x == 'Lightstorm Entertainment']\n",
    "df1 = df.groupby(by = ['original_title']).mean()['revenue'].sort_values(ascending = False)\n",
    "\n",
    "pd.DataFrame(df1)"
   ]
  }
 ],
 "metadata": {
  "kernelspec": {
   "display_name": "Python 3",
   "language": "python",
   "name": "python3"
  },
  "language_info": {
   "codemirror_mode": {
    "name": "ipython",
    "version": 3
   },
   "file_extension": ".py",
   "mimetype": "text/x-python",
   "name": "python",
   "nbconvert_exporter": "python",
   "pygments_lexer": "ipython3",
   "version": "3.6.3"
  }
 },
 "nbformat": 4,
 "nbformat_minor": 2
}
