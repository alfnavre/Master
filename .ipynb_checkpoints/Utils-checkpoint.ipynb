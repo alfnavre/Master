{
 "cells": [
  {
   "cell_type": "code",
   "execution_count": 4,
   "metadata": {},
   "outputs": [
    {
     "data": {
      "text/plain": [
       "'\\n    Functions Section\\n    \\n    Objetive: Keep here all utility functions\\n\\n'"
      ]
     },
     "execution_count": 4,
     "metadata": {},
     "output_type": "execute_result"
    }
   ],
   "source": [
    "\"\"\"\n",
    "    In this document, we will have all the additional functions.\n",
    "\n",
    "\"\"\""
   ]
  },
  {
   "cell_type": "code",
   "execution_count": 5,
   "metadata": {
    "collapsed": true
   },
   "outputs": [],
   "source": [
    "\"\"\"\n",
    "    Creating DataFrames Section\n",
    "\"\"\"\n",
    "\n",
    "def getMainDataFrame(dfMovies, dfCredits, size):\n",
    "    \"\"\"\n",
    "        Param 1: The dataframe which contains movies csv\n",
    "        Param 2: The dataframe which contains credits csv\n",
    "        Param 3: Size of the wanted dataframe \n",
    "        Returns: dfMain ~ a merge of the two dataframes\n",
    "    \"\"\"\n",
    "    # We change the name of the column to movie_id to be able to merge by that column after\n",
    "    movies = movies.rename(columns= {'id': 'movie_id'})\n",
    "    # Merging both .csv\n",
    "    dfMerge = pd.merge(credits, movies, on='movie_id')\n",
    "    # This is vital for running the whole program. Our dataframe contains 5000 registers that need to be lopped later.\n",
    "    # Please modify the head if you don't want our laptop to die while looping ;) \n",
    "    dfMerge = dfMerge.head(size)\n",
    "    # Setting up our main dataframe\n",
    "    dfMain = dfMerge[['movie_id','original_title', 'original_language', 'budget', 'popularity', \n",
    "                           'release_date', 'revenue', 'runtime', 'status','vote_average', \n",
    "                           'vote_count']]\n",
    "\n",
    "    return(pd.DataFrame(dfMain))\n",
    "\n",
    "    \n",
    "    \n",
    "    "
   ]
  },
  {
   "cell_type": "code",
   "execution_count": null,
   "metadata": {
    "collapsed": true
   },
   "outputs": [],
   "source": []
  }
 ],
 "metadata": {
  "kernelspec": {
   "display_name": "Python 3",
   "language": "python",
   "name": "python3"
  },
  "language_info": {
   "codemirror_mode": {
    "name": "ipython",
    "version": 3
   },
   "file_extension": ".py",
   "mimetype": "text/x-python",
   "name": "python",
   "nbconvert_exporter": "python",
   "pygments_lexer": "ipython3",
   "version": "3.6.3"
  }
 },
 "nbformat": 4,
 "nbformat_minor": 2
}
