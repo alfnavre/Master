{
 "cells": [
  {
   "cell_type": "markdown",
   "metadata": {},
   "source": [
    "<img src=\"Imagenes/hollywood.jpg\">"
   ]
  },
  {
   "cell_type": "markdown",
   "metadata": {},
   "source": [
    "# TMDB 5000 Movie Dataset\n",
    "IMDb, formerly known as Internet Movie Database, is an online database of information related to films, television programs \n",
    "and video games, including cast, production crew, fictional characters, biographies, plot summaries, trivia and reviews, operated by IMDb.com, Inc., a subsidiary of Amazon. As of December 2017, IMDb has approximately 4.7 million titles (including episodes) and 8.3 million personalities in its database,[2] as well as 83 million registered users.\n",
    "\n",
    "This dataset only contains 5000 therefore, valid conclusions can not be drawn since we do not know much data and some data of movies that we have, are not entirely credible. Some producers do not share the correct data of the movies, therefore, this analysis is merely indicative.\n",
    "\n",
    "In this analaysis we decided to focus on the development of the movie's industry throw time. Seeing the differences betweeen the beggining of the movie's industry and our time.\n",
    "\n",
    "Source: Kaggle: https://www.kaggle.com/tmdb/tmdb-movie-metadata\n",
    "\n",
    "###### Analysis made by: Alfonso Navarro Rey, Oscar Muñoz Trani & Carmen González-Conde\n",
    "01/26/2018\n"
   ]
  },
  {
   "cell_type": "markdown",
   "metadata": {},
   "source": [
    "## 1. IMPORTS SECTION\n",
    "\n",
    "This section contains all imports that we use in this analysis."
   ]
  },
  {
   "cell_type": "code",
   "execution_count": null,
   "metadata": {
    "collapsed": true
   },
   "outputs": [],
   "source": [
    "# Hiding all warnings.\n",
    "import warnings\n",
    "warnings.filterwarnings('ignore')\n",
    "import Utils as utl\n",
    "import pandas as pd \n",
    "import json as js\n",
    "import numpy as np\n",
    "from wordcloud import WordCloud, STOPWORDS\n",
    "from PIL import Image\n",
    "import matplotlib.pyplot as plt\n",
    "from ggplot import *\n",
    "import random\n",
    "import seaborn\n",
    "import pylab\n",
    "import folium\n",
    "import plotly \n",
    "plotly.tools.set_credentials_file(username='alfnavre', api_key='O1CahD6GsA3PPFhGzr91')\n",
    "import plotly.plotly as py\n",
    "import plotly.graph_objs as go"
   ]
  },
  {
   "cell_type": "markdown",
   "metadata": {},
   "source": [
    "## 2. READING FILES SECTION\n",
    "\n",
    "In this section we will read the .csv files provided by kaggle. "
   ]
  },
  {
   "cell_type": "code",
   "execution_count": null,
   "metadata": {
    "collapsed": true
   },
   "outputs": [],
   "source": [
    "file = \"~\\\\Documents\\\\PRACTICA_PYTHON\\\\BaseDeDatos\\\\tmdb_5000_credits.csv\"\n",
    "file2 = \"~\\\\Documents\\\\PRACTICA_PYTHON\\\\BaseDeDatos\\\\tmdb_5000_movies.csv\"\n",
    "\n",
    "dfCredits = pd.read_csv(file, encoding=\"cp437\", delimiter = ',')\n",
    "dfMovies = pd.read_csv(file2, encoding=\"cp437\", delimiter = ',')"
   ]
  },
  {
   "cell_type": "markdown",
   "metadata": {},
   "source": [
    "## 3. SETTING UP DATAFRAMES\n",
    "\n",
    "The objective of this section is to give the dataframe the shape we want plus additional changes that will help us along the study. We added two additional columns (profitable, is_profitable) and deleted other that we didn't consider relevant to our study. We consider that a movie is profitable when the revenue of a movie doubles its budget *.\n",
    "\n",
    "*Credits: https://stephenfollows.com/how-movies-make-money-hollywood-blockbusters/\n",
    "##### \"Is it often claimed that marketing a Hollywood movie can cost up to twice of the cost of the film’s budget\""
   ]
  },
  {
   "cell_type": "code",
   "execution_count": 4,
   "metadata": {},
   "outputs": [],
   "source": [
    "# We change the name of the column to movie_id to be able to merge by that column after\n",
    "dfMovies = dfMovies.rename(columns= {'id': 'movie_id'})\n",
    "# Merging both .csv\n",
    "dfMerge = pd.merge(dfCredits, dfMovies, on='movie_id')\n",
    "# This is vital for running the whole program. Please modify the head if you don't want our laptop to die while looping ;) \n",
    "#dfMerge = dfMerge.head(500)\n",
    "# We convert the whole column to datetime\n",
    "dfMerge['release_year'] = pd.to_datetime(dfMerge['release_date']).dt.year\n",
    "# We figured there is data with budget and revenue 0 that are incorrect, it is 5 records we will eliminate from the dataframe.\n",
    "dfMerge = dfMerge[(dfMerge['revenue'] != 0) & (dfMerge['budget'] != 0)]\n",
    "# We reset inex to avoid later problems\n",
    "dfMerge = dfMerge.reset_index()\n",
    "# Setting up Profitable columns\n",
    "dfMerge['profitable'] = ((dfMerge['revenue'] - dfMerge['budget']) / dfMerge['budget']) * 100\n",
    "dfMerge['is_profitable']  = dfMerge['revenue'] >= 2 * dfMerge['budget'] \n",
    "\n",
    "# Setting up our main dataframe\n",
    "dfMain = dfMerge[['movie_id','original_title', 'original_language', 'budget', 'popularity', 'release_year', \n",
    "                  'revenue', 'runtime', 'status','vote_average', 'vote_count', 'is_profitable', 'profitable']]"
   ]
  },
  {
   "cell_type": "code",
   "execution_count": 5,
   "metadata": {
    "collapsed": true
   },
   "outputs": [],
   "source": [
    "# Saving memory\n",
    "dfMovies = []\n",
    "dfCredits = []"
   ]
  },
  {
   "cell_type": "markdown",
   "metadata": {},
   "source": [
    "## 4. ANALYSING DATA\n",
    "\n",
    "This forth section contains the body of our analysis. We divided it into four sections. Analysing the keywords of the movies, the correlation between data in the dataset and our additional dataframes. A development of the movies over time (budget, genres, revenue...), the evolution of the women/men in the cinematographic history and the genres in which the most profitable companies invest."
   ]
  },
  {
   "cell_type": "markdown",
   "metadata": {},
   "source": [
    "## 4.1. Keywords\n",
    "\n",
    "This section aims to analyse all keywords in the dataframe, starting with the most popular in our century and followed by the 25 most popular of all years. "
   ]
  },
  {
   "cell_type": "code",
   "execution_count": null,
   "metadata": {
    "collapsed": true
   },
   "outputs": [],
   "source": [
    "# Obtaining dataframe we will use in this section\n",
    "# Obtaining the keywords dataframe\n",
    "dfKW = utl.getJSONDataFrame(pd, dfMerge, 'keywords')"
   ]
  },
  {
   "cell_type": "markdown",
   "metadata": {},
   "source": [
    "### 4.1.1.  Most popular keywords of the 21st century\n",
    "\n",
    "For a start, we decided to use the library WordCloud to introduce our analysis."
   ]
  },
  {
   "cell_type": "code",
   "execution_count": null,
   "metadata": {},
   "outputs": [],
   "source": [
    "# List of the movies of the 21st century.\n",
    "df21Century = dfMain[(dfMain['release_year'] >= 2000) & (dfMain['release_year'] < 2100) ]\n",
    "# We get the ids from the selected movies\n",
    "listIdsMovies = utl.getMovieIds(df21Century)\n",
    "# Getting the list of keywords\n",
    "keybordsList = utl.getKeyboardsFromMovies(dfKW, listIdsMovies)\n",
    "# Words not to take into account\n",
    "sWords = {'and', 'in', 'of', 'the', 'on','to', 'title','reference','female','male','by'}\n",
    "# We create the word cloud\n",
    "wc = WordCloud(background_color='white').generate(keybordsList)\n",
    "plt.rcParams[\"figure.figsize\"] = [15, 10]\n",
    "plt.imshow(wc, interpolation = \"bilinear\")\n",
    "plt.axis('off')\n",
    "plt.show()"
   ]
  },
  {
   "cell_type": "code",
   "execution_count": null,
   "metadata": {
    "collapsed": true
   },
   "outputs": [],
   "source": [
    "# Saving memory\n",
    "df21Century = [] \n",
    "listIdsMovies = []\n",
    "keybordsList = []"
   ]
  },
  {
   "cell_type": "markdown",
   "metadata": {},
   "source": [
    "### 4.1.2. The 25 most popular keywords of all movies"
   ]
  },
  {
   "cell_type": "code",
   "execution_count": null,
   "metadata": {},
   "outputs": [],
   "source": [
    "# We aggrupate keybords by name, then sort them by count.\n",
    "dfKWGrouped = dfKW.groupby(['name']).count().reset_index()\n",
    "# Renaming the column.\n",
    "dfKWGrouped = dfKWGrouped.rename(columns ={\"movie_id\": 'count'})\n",
    "# Sorting the keybords and getting the first 25\n",
    "dfKWGrouped = dfKWGrouped.sort_values(by=\"count\", ascending=False).head(25)\n",
    "# Convert the dataframe to a list which only contains the sorted Keybords.\n",
    "keywordsList = dfKWGrouped['name'].tolist()\n",
    "# Convert the dataframe to a list which only contains the sorted Counts.\n",
    "countList = dfKWGrouped['count'].tolist()\n",
    "# Obtaining the length of the objects list\n",
    "y_pos = np.arange(len(keywordsList))\n",
    "\n",
    "# Creating the plot\n",
    "plt.figure(figsize=(12, 8))\n",
    "plt.barh(y_pos, countList, align='center', alpha=0.5, color = (0.5,0.1,0.5,0.6))\n",
    "plt.yticks(y_pos, keywordsList)\n",
    "plt.xlabel('count', fontsize=16)\n",
    "plt.ylabel('keywords', fontsize=16)\n",
    "plt.title('25 Most Popular keywords of all movies', fontsize=18, bbox={'facecolor':'1.9', 'pad':3})\n",
    "# Showing the plot\n",
    "plt.show()\n"
   ]
  },
  {
   "cell_type": "code",
   "execution_count": null,
   "metadata": {
    "collapsed": true
   },
   "outputs": [],
   "source": [
    "# Saving memory\n",
    "dfKW = []\n",
    "dfKWGrouped = []\n",
    "keybordsList = []\n",
    "countList = []"
   ]
  },
  {
   "cell_type": "markdown",
   "metadata": {},
   "source": [
    "## 4.2. Correlation\n",
    "This section will study the correlation of the main dataframe (only numeric columns) and some other additional dataframes that we consider relevant.\n",
    "\n",
    "### 4.2.1. Main Dataframe correlation"
   ]
  },
  {
   "cell_type": "code",
   "execution_count": null,
   "metadata": {},
   "outputs": [],
   "source": [
    "# Lists of numeric data types\n",
    "numerics = ['int16', 'int32', 'int64', 'float16', 'float32', 'float64']\n",
    "# Obtain dataframe containing only numeric data\n",
    "dfMainNumerics = dfMain.select_dtypes(include=numerics)\n",
    "# Creating figure\n",
    "plt.figure(figsize=(12, 8))\n",
    "seaborn.heatmap(dfMainNumerics.corr(), annot = True, fmt = \".3f\", linewidths = .5, cmap = 'Blues_r');\n",
    "plt.title('Main dataframe correlation', fontsize=18, bbox={'facecolor':'1.9', 'pad':3})\n",
    "plt.show()"
   ]
  },
  {
   "cell_type": "code",
   "execution_count": null,
   "metadata": {
    "collapsed": true
   },
   "outputs": [],
   "source": [
    "# Saving memory\n",
    "dfMainNumerics = []"
   ]
  },
  {
   "cell_type": "markdown",
   "metadata": {},
   "source": [
    "We consider that there is correlation betweeen the variables if its > 0.7. We won't use the value of profitable becuase we created that column from revenue and budget. Therefore, we will study the correlation between vote_count and revenue/ popularity"
   ]
  },
  {
   "cell_type": "markdown",
   "metadata": {},
   "source": [
    "### 4.2.2. Studying the correlation between vote_count & revenue\n",
    "The highest the revenue and the vote_count are, the movies are more profitable as we see in the graph."
   ]
  },
  {
   "cell_type": "code",
   "execution_count": null,
   "metadata": {
    "scrolled": false
   },
   "outputs": [],
   "source": [
    "p = ggplot(aes(x='revenue', y='vote_count', color='is_profitable'), data=dfMain) +\\\n",
    "        geom_point() +\\\n",
    "        scale_fill_brewer() +\\\n",
    "        ggtitle(\"Correlation between revenue and vote_count\")\n",
    "        \n",
    "t = theme_gray()\n",
    "t._rcParams['font.size'] = 15 # Legend font size\n",
    "t._rcParams['xtick.labelsize'] = 10 # xaxis tick label size\n",
    "t._rcParams['ytick.labelsize'] = 10 # yaxis tick label size\n",
    "t._rcParams['axes.labelsize'] = 8  # axis label size\n",
    "p + t"
   ]
  },
  {
   "cell_type": "markdown",
   "metadata": {},
   "source": [
    "According to the graph, movies that have more revenue have also more vote_count. We decided to divide our data into whether the movie was profitable or not, we see there are only 4 movies that have more vote_count, but still got less than 0.5 millions of revenue. "
   ]
  },
  {
   "cell_type": "markdown",
   "metadata": {},
   "source": [
    "### 4.2.3. Crew & Cast correlation\n",
    "\n",
    "We inverted some time in reading what other people were studying in this dataset. A question came within many others.\n",
    "#### Does the number of crew influece whether the movie is more proffitable or it doesn't? And the number of cast?\n",
    "We will look into it now."
   ]
  },
  {
   "cell_type": "code",
   "execution_count": null,
   "metadata": {},
   "outputs": [],
   "source": [
    "# We obtain a dataframe containing the movie, crew/cast count and revenue to see its correlacion\n",
    "df = utl.addColCountJson(pd, dfMerge, ['crew', 'cast'], ['profitable', 'revenue'])\n",
    "\n",
    "# Creating figure\n",
    "plt.figure(figsize=(6, 4))\n",
    "seaborn.heatmap(df.corr(), annot = True, fmt = \".3f\", linewidths = .5, cmap = 'BuPu');\n",
    "plt.title('Cast/Crew count dataframe correlation', fontsize=18, bbox={'facecolor':'1.9', 'pad':3})\n",
    "plt.show()"
   ]
  },
  {
   "cell_type": "markdown",
   "metadata": {},
   "source": [
    "Answering the question above, no, the greater amount of cast and crew doesnn't influence on profit nor revenue."
   ]
  },
  {
   "cell_type": "code",
   "execution_count": null,
   "metadata": {
    "collapsed": true
   },
   "outputs": [],
   "source": [
    "# Saving memory\n",
    "df = []\n",
    "dfMergeCastCrew = []"
   ]
  },
  {
   "cell_type": "markdown",
   "metadata": {},
   "source": [
    "## 4.3. Evolution of the movies over the years\n",
    "In this section, we will analyze certain variables such as budget vs revenue and genres of our dataset over the years.\n",
    "\n",
    "### 4.3.1.  Evolution of the budget and revenue of the movies over the years\n"
   ]
  },
  {
   "cell_type": "code",
   "execution_count": null,
   "metadata": {},
   "outputs": [],
   "source": [
    "# We select the variables and group by the release_year\n",
    "df = dfMain[['release_year','revenue','budget']].groupby('release_year', as_index=False).sum()\n",
    "\n",
    "fig = plt.figure(figsize=(18, 6))\n",
    "ax = fig.add_subplot(111)\n",
    "#ax = plt.subplot(111)\n",
    "\n",
    "#first strategy is to use hollow bars with fill=False so that they can be reasonably superposed / contained within one another:\n",
    "ax.bar(df['release_year'], df['budget'],width=0.3,edgecolor='g',align='center', fill=False) #the green bar has the smallest width as it is contained within the other two\n",
    "ax.bar(df['release_year'], df['revenue'],width=0.6,edgecolor='b',align='center', fill=False) #the blue bar has a greater width than the green bar\n",
    "ax.set_xlabel('Evolution Budget vs Revenue',fontsize=18, bbox={'facecolor':'1.9', 'pad':3})\n",
    "ax.set_ylabel('Thousands of millions',fontsize=16)\n",
    "plt.show()"
   ]
  },
  {
   "cell_type": "markdown",
   "metadata": {},
   "source": [
    "We can see that over the years both the expense and the box office has been increasing exponentially and that there is almost no year in which the investment exceeds the box office. The movie industry is an industry in which more and more is invested due to its high profitability."
   ]
  },
  {
   "cell_type": "markdown",
   "metadata": {},
   "source": [
    "### 4.3.2.  Difference between Budget & Revenue of 30 Movies Top/Low vote_average\n"
   ]
  },
  {
   "cell_type": "code",
   "execution_count": null,
   "metadata": {},
   "outputs": [],
   "source": [
    "# We will use our function to make a subset  30 movies top budget\n",
    "dfTopBudget = utl.getTopDataframe(dfMain, 'vote_average', 30)\n",
    "labels = (dfTopBudget['original_title'])\n",
    "ax = dfTopBudget[['budget','revenue']].plot(kind='barh', figsize=(15, 10), legend=True, fontsize=12)\n",
    "ax.set_yticklabels(labels, minor=False)\n",
    "ax.set_ylabel(\"Movies\", fontsize=16)\n",
    "ax.set_xlabel(\"Thousands of Millions\", fontsize=16)\n",
    "ax.set_title(\"Difference Budget/Revenue of 30 Movies Top vote_average\", fontsize=18, bbox={'facecolor':'1.9', 'pad':3})\n",
    "plt.show()\n",
    "\n"
   ]
  },
  {
   "cell_type": "code",
   "execution_count": null,
   "metadata": {},
   "outputs": [],
   "source": [
    "# We will use our function to make subset with 30 movies lowest vote_average\n",
    "dfLowerBudget = utl.getLowerDataframe(dfMain, 'vote_average', 30)\n",
    "\n",
    "labels = dfLowerBudget['original_title']\n",
    "ax = dfLowerBudget[['budget','revenue']].plot(kind='barh', figsize=(15, 10), legend=True, fontsize=12)\n",
    "ax.set_yticklabels(labels, minor=False)\n",
    "ax.set_ylabel(\"Movies\", fontsize=16)\n",
    "ax.set_xlabel(\"Thousands of Millions\", fontsize=16)\n",
    "ax.set_title(\"Difference Budget/Revenue Movies Lower vote_average\", fontsize=18, bbox={'facecolor':'1.9', 'pad':3})\n",
    "plt.show()"
   ]
  },
  {
   "cell_type": "markdown",
   "metadata": {},
   "source": [
    "It can be observed that the films with the highest vote are the ones with the highest profitability, while those with the worst scores have even losses of money."
   ]
  },
  {
   "cell_type": "code",
   "execution_count": null,
   "metadata": {
    "collapsed": true
   },
   "outputs": [],
   "source": [
    "# Saving memory\n",
    "df = []"
   ]
  },
  {
   "cell_type": "code",
   "execution_count": null,
   "metadata": {},
   "outputs": [],
   "source": [
    "# We will use our function to make subset with 30 movies lowest Budget\n",
    "dfLowerBudget = utl.getLowerDataframe(dfMain, 'budget', 30)\n",
    "df = dfLowerBudget[['budget','revenue', 'original_title']]\n",
    "\n",
    "\n",
    "# Showing the plot\n",
    "ind = np.arange(df.shape[0])\n",
    "width = 0.35\n",
    "\n",
    "# Set the colors\n",
    "colors = ['b', 'g', 'r', 'c', 'm', 'y', 'g']\n",
    "\n",
    "\n",
    "def autolabel(bars):\n",
    "    # attach some text labels\n",
    "    for bar in bars:\n",
    "        width = bar.get_width()\n",
    "        ax.text(width*0.95, bar.get_y() + bar.get_height()/2,\n",
    "                '%d' % int(width+10), va='bottom')\n",
    "\n",
    "# make the plots\n",
    "fig, ax = plt.subplots(figsize=(15,10))\n",
    "a = ax.barh(ind, df.budget, width, color = colors) # plot a vals\n",
    "b = ax.barh(ind + width, df.revenue, width, color = colors, alpha=0.5)  # plot b vals\n",
    "ax.set_yticks(ind + width)  # position axis ticks\n",
    "ax.set_yticklabels(df.original_title)  # set them to the names\n",
    "ax.set_ylabel('Movies', fontsize=16)\n",
    "ax.set_xlabel('Thousands of Millions', fontsize=16)\n",
    "ax.set_title(\"Difference Budget/Revenue Movies Lowest Budget\", fontsize=18, bbox={'facecolor':'1.9', 'pad':3})\n",
    "ax.legend((a[0], b[0]), ['budget', 'revenue'], loc='center right')\n",
    "\n",
    "#autolabel(a)\n",
    "autolabel(revenue)\n",
    "\n",
    "plt.show()"
   ]
  },
  {
   "cell_type": "markdown",
   "metadata": {},
   "source": [
    "* We can see any movies reaches 100 million budget\n",
    "* Also we can see the movies with highest revenue are PARANOMAL ACTIVITY and THE BLAIR WITCH PROJECT, last one is like to blockbuster movie with huge budget\n",
    "* All movies only 30% make revenue"
   ]
  },
  {
   "cell_type": "code",
   "execution_count": null,
   "metadata": {},
   "outputs": [],
   "source": [
    "# Saving memory\n",
    "df = []"
   ]
  },
  {
   "cell_type": "code",
   "execution_count": null,
   "metadata": {},
   "outputs": [],
   "source": [
    "# We will use our function to make subset with 30 movies lowest Budget\n",
    "dfTopBudget = utl.getTopDataframe(dfMain, 'budget', 30)\n",
    "df = dfTopBudget[['budget','revenue', 'original_title']]\n",
    "\n",
    "\n",
    "# Showing the plot\n",
    "ind = np.arange(len(df))\n",
    "width = 0.35\n",
    "\n",
    "# Set the colors\n",
    "colors = ['b', 'g', 'r', 'c', 'm', 'y', 'g']\n",
    "\n",
    "\n",
    "def autolabel(bars):\n",
    "    # attach some text labels\n",
    "    for bar in bars:\n",
    "        width = bar.get_width()\n",
    "        ax.text(width*0.95, bar.get_y() + bar.get_height()/2,\n",
    "                '%d' % int(width+100), ha= 'left', va='bottom')\n",
    "\n",
    "\n",
    "# make the plots\n",
    "fig, ax = plt.subplots(figsize=(15,10))\n",
    "a = ax.barh(ind, df.budget, width, color = colors) # plot a vals\n",
    "b = ax.barh(ind + width, df.revenue, width, color = colors, alpha=0.5)  # plot b vals\n",
    "ax.set_yticks(ind + width)  # position axis ticks\n",
    "ax.set_yticklabels(df.original_title)  # set them to the names\n",
    "ax.set_ylabel('Movies', fontsize=16)\n",
    "ax.set_xlabel('Thousands of Millions', fontsize=16)\n",
    "ax.set_title(\"Difference Budget/Revenue Movies Top Budget\", fontsize=18, bbox={'facecolor':'1.9', 'pad':3})\n",
    "ax.legend((a[0], b[0]), ['budget', 'revenue'], loc='center right')\n",
    "\n",
    "#autolabel(a)\n",
    "autolabel(revenue)\n",
    "\n",
    "plt.show()"
   ]
  },
  {
   "cell_type": "markdown",
   "metadata": {},
   "source": [
    "* We can see the movie with highest renenue is AVATAR and the movies blockbuster are mostly comic characters. \n",
    "* Also we can see the budget is similar between all movies\n",
    "* All movies have revenues very differents and the success is related to a large budget"
   ]
  },
  {
   "cell_type": "code",
   "execution_count": null,
   "metadata": {},
   "outputs": [],
   "source": [
    "# Saving memory\n",
    "df = []"
   ]
  },
  {
   "cell_type": "markdown",
   "metadata": {},
   "source": [
    "### 4.3.2. Evolution of the genres of the movies over the years\n",
    "\n",
    "One of the factors that we think would be interesting for the study is the evolution of genres in the movie industry."
   ]
  },
  {
   "cell_type": "code",
   "execution_count": 7,
   "metadata": {
    "collapsed": true
   },
   "outputs": [
    {
     "name": "stdout",
     "output_type": "stream",
     "text": [
      "longitud df -->  8559 Contador -->  8559\n"
     ]
    }
   ],
   "source": [
    "# We obtain the dataframes we will use\n",
    "dfGenres = utl.getJSONDataFrame(pd, dfMerge, 'genres')"
   ]
  },
  {
   "cell_type": "code",
   "execution_count": null,
   "metadata": {
    "scrolled": false
   },
   "outputs": [],
   "source": [
    "# Merge of the dataframes\n",
    "dfMainGenres = dfMain.merge(dfGenres, on = 'movie_id')\n",
    "dfMainGenres['count'] = 0\n",
    "# We pivot the table in order to be able to run the plot\n",
    "dfMainGenres = dfMainGenres.pivot_table(dfMainGenres, index=['release_year','name'], aggfunc='count')['count']\n",
    "dfMainGenres = dfMainGenres.unstack()\n",
    "\n",
    "# Obtain a dictionary of colors\n",
    "colors = utl.getColorsDictionary()\n",
    "# We create the figure\n",
    "fig, ax = plt.subplots(figsize=(18,8))\n",
    "\n",
    "# For every column (which are the genres), we will draw a line across the plot symbolizing the specific genre.\n",
    "for i in range(len(dfMainGenres.columns)):\n",
    "    ax.plot(dfMainGenres.iloc[:, i],  color = colors.get(i) )\n",
    "\n",
    "plt.ylabel('Count',fontsize=16);\n",
    "plt.xlabel('Years', fontsize=16);\n",
    "plt.title('Evolution of genres through the years', fontsize=18, bbox={'facecolor':'1.9', 'pad':3})\n",
    "pylab.legend(loc = 'upper left')\n",
    "plt.show()"
   ]
  },
  {
   "cell_type": "markdown",
   "metadata": {},
   "source": [
    "The results of the graph indicate that the first movies created were in the 20s and that they used the drama as a unique theme.\n",
    "As our dataset possesses only 5000 movies, we believe it is better to analyze the 3 predominant genres in the 21st century. These genres are: drama, comedy and Thriller. Now, we will get the most popular actors for that genres."
   ]
  },
  {
   "cell_type": "markdown",
   "metadata": {},
   "source": [
    "### Most popular actor by genre on the 21st Century"
   ]
  },
  {
   "cell_type": "code",
   "execution_count": null,
   "metadata": {
    "collapsed": true
   },
   "outputs": [],
   "source": [
    "# We obtain the dataframes we will use\n",
    "dfCast = utl.getJSONDataFrame(pd, dfMerge, 'cast')"
   ]
  },
  {
   "cell_type": "code",
   "execution_count": null,
   "metadata": {},
   "outputs": [],
   "source": [
    "# Merging\n",
    "dfGenderCast = dfGenres.merge(dfCast,on='movie_id')\n",
    "dfGenderCast = pd.DataFrame(dfGenderCast.groupby(('name_x','name_y')).count()['order'])\n",
    "dfMainGenres = dfGenres.merge(dfMain[dfMain[\"release_year\"] > 2000 ], on='movie_id')\n",
    "# These are the most popular genres\n",
    "genreList = [\"Drama\", \"Comedy\", \"Thriller\"]\n",
    "# We create a new dataframe containing the columns genre and actor that we will fill\n",
    "dfPopularActorGenre21st = pd.DataFrame(columns=['genre', 'actor'])\n",
    "# Filling the new dataframe with the most popular actor for each genre\n",
    "i = 0\n",
    "for genre in genreList:\n",
    "    nameActor = dfGenderCast.loc[genre].sort_values(\"order\", ascending = False).head(1).index.get_level_values('name_y')[0]\n",
    "    dfPopularActorGenre21st.loc[i, 'genre'] = genre\n",
    "    dfPopularActorGenre21st.loc[i, 'actor'] = nameActor\n",
    "    i = i + 1"
   ]
  },
  {
   "cell_type": "code",
   "execution_count": null,
   "metadata": {},
   "outputs": [],
   "source": [
    "# Showing the dataframe as table   \n",
    "\n",
    "trace0 = go.Table(\n",
    "  type = 'table',\n",
    "  header = dict(\n",
    "    values = ['<b>Genre</b>', '<b>Actor</b>'],\n",
    "    line = dict(color = 'red'),\n",
    "    fill = dict(color = 'lightblue'),\n",
    "    align = 'center',\n",
    "    font = dict(family='Courier New, monospace',color = 'black', size = 16)\n",
    "  ),\n",
    "  cells = dict(\n",
    "    values = [dfPopularActorGenre21st.genre, dfPopularActorGenre21st.actor],\n",
    "    line = dict(color = 'red'),\n",
    "    fill = dict(color = 'white'),\n",
    "    align = 'center',\n",
    "    font = dict(color = 'black', size = 11)\n",
    "    ))\n",
    "\n",
    "layout = dict(width=500, height=300)\n",
    "data = [trace0]\n",
    "fig = dict(data=data, layout=layout)\n",
    "py.iplot(fig, filename = 'styled_table')"
   ]
  },
  {
   "cell_type": "markdown",
   "metadata": {},
   "source": [
    "As the results show, the most popular actors for that genres in the 21st Century are Matt Damon, Owen Wilson and Bruce Willis. No women is part of that chart. We are going to investigate the percentage of women in those genres."
   ]
  },
  {
   "cell_type": "markdown",
   "metadata": {},
   "source": [
    "### % of females in the most popular genres of the 21st Century\n",
    "We decided to look into the female percentage in the previous analyzed genres for obvious reasons."
   ]
  },
  {
   "cell_type": "code",
   "execution_count": null,
   "metadata": {},
   "outputs": [],
   "source": [
    "# We only considerate appropiate to use non NaN values or values that equal 1 or 2\n",
    "dfCast = dfCast[(dfCast['gender'] == 1) | (dfCast['gender'] == 2)]\n",
    "# Merge of dfMain with genres and cast\n",
    "dfGenderCast = dfMainGenres.merge(dfCast, on='movie_id')\n",
    "# Grouping by actor and gender\n",
    "dfGenderActorSex = dfGenderCast.groupby(by= ['name_x','gender']).count()['name_y']\n",
    "dfGenderActorSex.unstack(level= 1)\n",
    "\n",
    "# We create an empty dataframe that will containg the genre and the percent of females casting in that genre\n",
    "dfFemalePercent = pd.DataFrame(columns=['genre', 'PercentFemale'])\n",
    "\n",
    "# We define the most popular genres of the 21st Century\n",
    "genreList = [\"Drama\", \"Comedy\", \"Thriller\"]\n",
    "\n",
    "i = 0\n",
    "for genre in genreList:\n",
    "    dfFemalePercent.loc[i, 'genre'] = genre\n",
    "    dfFemalePercent.loc[i, 'PercentFemale'] = (dfGenderActorSex.loc[genre][1] / (dfGenderActorSex.loc[genre][2] + dfGenderActorSex.loc[genre][1]) *  100).round(1)\n",
    "    i = i + 1"
   ]
  },
  {
   "cell_type": "code",
   "execution_count": null,
   "metadata": {},
   "outputs": [],
   "source": [
    "# Showing the dataframe as table   \n",
    "\n",
    "trace0 = go.Table(\n",
    "  type = 'table',\n",
    "  header = dict(\n",
    "    values = ['<b>Genre</b>', '<b>PercentFemale</b>'],\n",
    "    line = dict(color = 'blue'),\n",
    "    fill = dict(color = 'lightgrey'),\n",
    "    align = 'center',\n",
    "    font = dict(family='Courier New, monospace',color = 'black', size = 16)\n",
    "  ),\n",
    "  cells = dict(\n",
    "    values = [dfFemalePercent.genre, dfFemalePercent.PercentFemale],\n",
    "    line = dict(color = 'blue'),\n",
    "    fill = dict(color = 'white'),\n",
    "    align = 'center',\n",
    "    font = dict(color = 'black', size = 11)\n",
    "    ))\n",
    "\n",
    "layout = dict(width=500, height=300)\n",
    "data = [trace0]\n",
    "fig = dict(data=data, layout=layout)\n",
    "py.iplot(fig, filename = 'styled_table')"
   ]
  },
  {
   "cell_type": "markdown",
   "metadata": {},
   "source": [
    "The appearance of women in 21st century movies is very low. It is at 40% or less for those genres. Which leads us to analyze the number of women vs man of all movies."
   ]
  },
  {
   "cell_type": "code",
   "execution_count": null,
   "metadata": {},
   "outputs": [],
   "source": [
    "dfGenderPerYear = utl.getGenderPerYear(pd, dfMain, dfCast)\n",
    "\n",
    "p = ggplot(aes(x='release_year'), data=dfGenderPerYear) +\\\n",
    "    geom_line(aes(y='female_count'), color='pink') +\\\n",
    "    geom_line(aes(y='male_count'), color='blue') +\\\n",
    "    xlab(\"Years\") +\\\n",
    "    ylab(\"Count\") +\\\n",
    "    ggtitle(\"Man vs women in time\")\n",
    "    \n",
    "t = theme_gray()\n",
    "t._rcParams['font.size'] = 15 # Legend font size\n",
    "t._rcParams['xtick.labelsize'] = 10 # xaxis tick label size\n",
    "t._rcParams['ytick.labelsize'] = 10 # yaxis tick label size\n",
    "t._rcParams['axes.labelsize'] = 8  # axis label size\n",
    "p + t"
   ]
  },
  {
   "cell_type": "markdown",
   "metadata": {},
   "source": [
    "As we can see in the graph, the presence of man is much greater in the film industry since the appearance of films until nowadays. As a conclusion of these data, we can affirm why the man in hollywood earns more than the woman."
   ]
  },
  {
   "cell_type": "code",
   "execution_count": null,
   "metadata": {
    "collapsed": true
   },
   "outputs": [],
   "source": [
    "# To save memory\n",
    "dfMainGenres = []\n",
    "dfCast = []\n",
    "dfGenderCast = []\n",
    "dfGenderActorSex = []"
   ]
  },
  {
   "cell_type": "markdown",
   "metadata": {},
   "source": [
    "### 4.3.3. The companies that earn the most, in what genres do they invest?\n",
    "On Kaggle's page, they asked this question and we considered it important to analyze it."
   ]
  },
  {
   "cell_type": "code",
   "execution_count": 8,
   "metadata": {
    "collapsed": true
   },
   "outputs": [
    {
     "name": "stdout",
     "output_type": "stream",
     "text": [
      "longitud df -->  10332 Contador -->  10332\n"
     ]
    }
   ],
   "source": [
    "# We convert the json files into a dataframe\n",
    "dfProduction_companies = utl.getJSONDataFrame(pd, dfMerge, 'production_companies')\n",
    "dfMainGenres = dfMain.merge(dfGenres, on = 'movie_id')\n",
    "\n",
    "# We unite both in a single dataframe\n",
    "df = dfProduction_companies.loc[:,['name','movie_id']]\n",
    "dfGenresCompanies = pd.merge(df, dfMainGenres, on ='movie_id')"
   ]
  },
  {
   "cell_type": "code",
   "execution_count": 12,
   "metadata": {},
   "outputs": [
    {
     "data": {
      "text/html": [
       "<iframe id=\"igraph\" scrolling=\"no\" style=\"border:none;\" seamless=\"seamless\" src=\"https://plot.ly/~alfnavre/4.embed\" height=\"500px\" width=\"500px\"></iframe>"
      ],
      "text/plain": [
       "<plotly.tools.PlotlyDisplay object>"
      ]
     },
     "execution_count": 12,
     "metadata": {},
     "output_type": "execute_result"
    }
   ],
   "source": [
    "# We show a table with the five companies that have profited the most from the films produced according to the initial budget.\n",
    "\n",
    "df = dfGenresCompanies.loc[:,['profitable','budget']]\n",
    "TableGenresCompanies = dfGenresCompanies.pivot_table(df, index=['name_x']).sort_values(\"profitable\", ascending = False).head(5).round()\n",
    "\n",
    "trace0 = go.Table(\n",
    "  type = 'table',\n",
    "  header = dict(\n",
    "    values = ['<b>Companies</b>','<b>Budget</b>', '<b>Profitable</b>'],\n",
    "    line = dict(color = 'blue'),\n",
    "    fill = dict(color = 'lightgrey'),\n",
    "    align = 'center',\n",
    "    font = dict(family='Courier New, monospace',color = 'black', size = 16)\n",
    "  ),\n",
    "  cells = dict(\n",
    "    values = [TableGenresCompanies.index[:],TableGenresCompanies.budget, TableGenresCompanies.profitable],\n",
    "    line = dict(color = 'blue'),\n",
    "    fill = dict(color = 'white'),\n",
    "    align = 'center',\n",
    "    font = dict(color = 'black', size = 11)\n",
    "    ))\n",
    "\n",
    "layout = dict(width=500, height=500)\n",
    "data = [trace0]\n",
    "fig = dict(data=data, layout=layout)\n",
    "py.iplot(fig, filename = 'styled_table')"
   ]
  },
  {
   "cell_type": "code",
   "execution_count": 13,
   "metadata": {},
   "outputs": [
    {
     "data": {
      "image/png": "[encoded data removed]",
      "text/plain": [
       "<matplotlib.figure.Figure at 0x119a9d0f0>"
      ]
     },
     "metadata": {},
     "output_type": "display_data"
    }
   ],
   "source": [
    "# We reprinted this data in a bar chart.\n",
    "TableGenresCompanies.plot(kind = 'bar')\n",
    "plt.title('Five most profitable companies according to budget', fontsize=18, bbox={'facecolor':'1.9', 'pad':3})\n",
    "plt.xlabel('Companies', fontsize=16)\n",
    "plt.ylabel(\"Thousands of Millions\", fontsize=16)\n",
    "plt.show()"
   ]
  },
  {
   "cell_type": "markdown",
   "metadata": {},
   "source": [
    "You can clearly verify that the most profitable company based on your total investment and collection, is Charles Caplin Production. It is a company founded at the beginning of the twentieth century that today continue to generate high income for their productions now considered true masterpieces of silent film and comedy. The low production cost of their films, if we compare them in the monetary value of the current century and the fact that they continue to generate income from these productions, make this company stand out from the others.\n"
   ]
  },
  {
   "cell_type": "markdown",
   "metadata": {},
   "source": [
    "##  4.4 Countries that produce the most movies"
   ]
  },
  {
   "cell_type": "code",
   "execution_count": null,
   "metadata": {
    "collapsed": true
   },
   "outputs": [],
   "source": [
    "# Returns a dataframe with the languages most used in movies\n",
    "dfMergeLanguagesMainGB = utl.getMostUsedLanguagesDataFrame(pd, dfMain)\n",
    "# Getting a dataframe with worldwide geolocations\n",
    "dfGeo = utl.getGeoLocations(pd)\n",
    "# We merge\n",
    "dfMergeGeoLanguages = pd.merge(dfMergeLanguagesMainGB, dfGeo, on = \"ISO 3166 Country Code\")\n",
    "\n"
   ]
  },
  {
   "cell_type": "code",
   "execution_count": null,
   "metadata": {},
   "outputs": [],
   "source": [
    "# Getting the countries that most movies produce\n",
    "\n",
    "# Read the data with productions countries\n",
    "dfCountries = utl.getJSONDataFrame(pd, dfMerge, 'production_countries')\n",
    "# Groupby to get repetitions per country\n",
    "dfCountries2 = dfCountries.groupby([\"iso_3166_1\", \"name\"]).size().reset_index(name=\"Time\")\n",
    "# Rename column to be able to merge with geolocations\n",
    "dfCountries2.columns = ['ISO 3166 Country Code', 'Country', 'Time']\n",
    "dfCountriesMerge = pd.merge(dfGeo, dfCountries2)\n",
    "dfCountriesMerge.head()\n",
    "\n",
    "# Make a data frame with dots to show on the map\n",
    "dfCountriesMerge\n",
    "\n",
    "row_index = dfCountriesMerge.Time == 2908\n",
    "# then with the form .loc[row_indexer,col_indexer]\n",
    "dfCountriesMerge.loc[row_index, 'Time'] = 800.0\n",
    " \n",
    "# Make an empty map\n",
    "m = folium.Map(location=[20,0], tiles=\"Mapbox Bright\", zoom_start=2)\n",
    " \n",
    "# I can add marker one by one on the map\n",
    "for i in range(0,len(dfCountriesMerge)):\n",
    "   folium.Circle(\n",
    "      location=[dfCountriesMerge.iloc[i]['Latitude'], dfCountriesMerge.iloc[i]['Longitude']],\n",
    "      popup=dfCountriesMerge.iloc[i]['ISO 3166 Country Code'],\n",
    "      radius=dfCountriesMerge.iloc[i]['Time']*3000,\n",
    "      color='blue',\n",
    "      fill=True,\n",
    "      fill_color='blue'\n",
    "      ).add_to(m)\n",
    "\n",
    "# Show the plot\n",
    "display(m)"
   ]
  },
  {
   "cell_type": "markdown",
   "metadata": {},
   "source": [
    "We can see that the countries that produce the most movies are the United States (which stands out above the rest) followed by the United Kingdom."
   ]
  },
  {
   "cell_type": "markdown",
   "metadata": {},
   "source": [
    "## 5. Final Conclusion"
   ]
  },
  {
   "cell_type": "code",
   "execution_count": null,
   "metadata": {},
   "outputs": [],
   "source": []
  }
 ],
 "metadata": {
  "kernelspec": {
   "display_name": "Python 3",
   "language": "python",
   "name": "python3"
  },
  "language_info": {
   "codemirror_mode": {
    "name": "ipython",
    "version": 3
   },
   "file_extension": ".py",
   "mimetype": "text/x-python",
   "name": "python",
   "nbconvert_exporter": "python",
   "pygments_lexer": "ipython3",
   "version": "3.6.3"
  }
 },
 "nbformat": 4,
 "nbformat_minor": 2
}
